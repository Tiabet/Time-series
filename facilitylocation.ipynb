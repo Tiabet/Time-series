{
 "cells": [
  {
   "cell_type": "code",
   "execution_count": null,
   "id": "81c54a37-c5f8-4594-92e5-c8999bc32b91",
   "metadata": {
    "tags": []
   },
   "outputs": [],
   "source": [
    "x = 4.25\n",
    "y= 4.0\n"
   ]
  },
  {
   "cell_type": "code",
   "execution_count": 20,
   "id": "f4305108-ef58-4e6d-b2e3-435f8acd48c5",
   "metadata": {},
   "outputs": [
    {
     "name": "stdout",
     "output_type": "stream",
     "text": [
      "0.22358229943083027\n",
      "0.11204249374035326\n",
      "0.44342853878920413\n",
      "0.1118087607257887\n"
     ]
    }
   ],
   "source": [
    "import numpy as np\n",
    "import math\n",
    "\n",
    "def g1(x,y) :\n",
    "    result = (x-0)**2 + (y-0)**2\n",
    "    result = math.sqrt(result)\n",
    "    result = 1/result\n",
    "    return result\n",
    "\n",
    "def g2(x,y) :\n",
    "    result = (x-0)**2 + (y-10)**2\n",
    "    result = math.sqrt(result)\n",
    "    result = 1/result\n",
    "    return result\n",
    "\n",
    "def g3(x,y):\n",
    "    result = (x-5)**2 + (y-0)**2\n",
    "    result = math.sqrt(result)\n",
    "    result = 1/result\n",
    "    return result\n",
    "\n",
    "def g4(x,y):\n",
    "    result = (x-12)**2 + (y-6)**2\n",
    "    result = math.sqrt(result)\n",
    "    result = 1/result\n",
    "    return result\n",
    "\n",
    "print(g1(x,y))\n",
    "print(g2(x,y))\n",
    "print(g3(x,y))\n",
    "print(g4(x,y))\n"
   ]
  },
  {
   "cell_type": "code",
   "execution_count": 21,
   "id": "1a1414d1-62e1-4bf2-97d5-6a91bac73bf8",
   "metadata": {},
   "outputs": [
    {
     "name": "stdout",
     "output_type": "stream",
     "text": [
      "0.8908620926861763\n",
      "3.558847822655485\n",
      "1.7912775017582647\n",
      "3.9948358470665775\n",
      "2.0107236759363127\n"
     ]
    }
   ],
   "source": [
    "\n",
    "def update(x,y):\n",
    "    gravitysum = g1(x,y) + g2(x,y) + g3(x,y) + g4(x,y)\n",
    "    print(gravitysum)\n",
    "    x_result = 5*g3(x,y) + 12*g4(x,y)\n",
    "    print(x_result)\n",
    "    x_result = x_result/gravitysum\n",
    "    y_result = 10*g2(x,y) + 6*g4(x,y)\n",
    "    print(y_result)\n",
    "    y_result = y_result/gravitysum\n",
    "    return x_result,y_result\n",
    "\n",
    "x,y = update(x,y)\n",
    "print(x)\n",
    "print(y)"
   ]
  },
  {
   "cell_type": "code",
   "execution_count": 32,
   "id": "851de3d9-7fb7-4b71-83d3-ff8b14ad8555",
   "metadata": {},
   "outputs": [
    {
     "name": "stdout",
     "output_type": "stream",
     "text": [
      "0.8944270071497095\n",
      "3.5777077834656583\n",
      "1.7888545045667623\n",
      "0.8944270071497095\n",
      "3.5777077834656583\n",
      "1.7888545045667623\n",
      "0.8944270760935432\n",
      "3.5777081511658437\n",
      "1.78885445860413\n",
      "0.8944270760935432\n",
      "3.5777081511658437\n",
      "1.78885445860413\n",
      "0.8944271191834353\n",
      "3.5777083809784997\n",
      "1.7888544298775049\n",
      "0.8944271191834353\n",
      "3.5777083809784997\n",
      "1.7888544298775049\n",
      "0.8944271461146164\n",
      "3.5777085246114253\n",
      "1.7888544119233722\n",
      "0.8944271461146164\n",
      "3.5777085246114253\n",
      "1.7888544119233722\n",
      "0.8944271629466041\n",
      "3.577708614382011\n",
      "1.7888544007020426\n",
      "0.8944271629466041\n",
      "3.577708614382011\n",
      "1.7888544007020426\n",
      "0.8944271734665963\n",
      "3.5777086704886294\n",
      "1.788854393688713\n",
      "0.8944271734665963\n",
      "3.5777086704886294\n",
      "1.788854393688713\n",
      "0.8944271800415913\n",
      "3.577708705555266\n",
      "1.7888543893053819\n",
      "0.8944271800415913\n",
      "3.577708705555266\n",
      "1.7888543893053819\n",
      "0.8944271841509629\n",
      "3.577708727471915\n",
      "1.7888543865658004\n",
      "0.8944271841509629\n",
      "3.577708727471915\n",
      "1.7888543865658004\n",
      "0.8944271867193202\n",
      "3.577708741169821\n",
      "1.788854384853562\n",
      "0.8944271867193202\n",
      "3.577708741169821\n",
      "1.788854384853562\n",
      "0.8944271883245436\n",
      "3.5777087497310123\n",
      "1.7888543837834132\n",
      "0.8944271883245436\n",
      "3.5777087497310123\n",
      "1.7888543837834132\n"
     ]
    },
    {
     "data": {
      "text/plain": [
       "[(3.9999997259327174, 2.000000548135666),\n",
       " (3.9999998287078586, 2.0000003425847135),\n",
       " (3.999999892942377, 2.0000002141154156),\n",
       " (3.9999999330889717, 2.0000001338221227),\n",
       " (3.9999999581806023, 2.000000083638822),\n",
       " (3.999999973862874, 2.000000052274262),\n",
       " (3.9999999836642943, 2.0000000326714127),\n",
       " (3.9999999897901843, 2.0000000204196327),\n",
       " (3.9999999936188657, 2.0000000127622704),\n",
       " (3.9999999960117916, 2.000000007976419)]"
      ]
     },
     "execution_count": 32,
     "metadata": {},
     "output_type": "execute_result"
    }
   ],
   "source": [
    "arr = []\n",
    "\n",
    "for _ in range(10):\n",
    "    arr.append(update(x,y))\n",
    "    x,y = update(x,y)\n",
    "\n",
    "arr"
   ]
  }
 ],
 "metadata": {
  "kernelspec": {
   "display_name": "Python 3 (ipykernel)",
   "language": "python",
   "name": "python3"
  },
  "language_info": {
   "codemirror_mode": {
    "name": "ipython",
    "version": 3
   },
   "file_extension": ".py",
   "mimetype": "text/x-python",
   "name": "python",
   "nbconvert_exporter": "python",
   "pygments_lexer": "ipython3",
   "version": "3.9.13"
  }
 },
 "nbformat": 4,
 "nbformat_minor": 5
}
